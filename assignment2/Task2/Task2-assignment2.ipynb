{
 "cells": [
  {
   "cell_type": "code",
   "execution_count": 1,
   "metadata": {},
   "outputs": [
    {
     "name": "stdout",
     "output_type": "stream",
     "text": [
      "a=2\n",
      "b=3\n",
      "c=4\n",
      "area of triangle is : 2.9047375096555625\n"
     ]
    }
   ],
   "source": [
    "#1.1 to find area of triangle\n",
    "class triangle:\n",
    "    def __init__(self,a,b,c):\n",
    "        self.a = float(a)\n",
    "        self.b = float(b)\n",
    "        self.c = float(c)\n",
    "a= int(input(\"a=\"))\n",
    "b= int(input(\"b=\"))\n",
    "c= int(input(\"c=\"))\n",
    "\n",
    "class area(triangle):\n",
    "    def __init__(self,a,b,c):\n",
    "        super().__init__(a,b,c)\n",
    "\n",
    "    def get_area(self):\n",
    "        s = (a + b + c) / 2\n",
    "        return (s*(s-a)*(s-b)*(s-c)) ** 0.5        \n",
    "\n",
    "t = area(a,b,c)\n",
    "print(\"area of triangle is : {}\".format(t.get_area()))"
   ]
  },
  {
   "cell_type": "code",
   "execution_count": 8,
   "metadata": {},
   "outputs": [
    {
     "name": "stdout",
     "output_type": "stream",
     "text": [
      "The list of the words longer than n are : ['fyhjjk', 'hhjk', 'ahsjshsjjsjs']\n"
     ]
    }
   ],
   "source": [
    "#1.2 To find a word longer than n\n",
    "def filter_long_words(word_list,n):\n",
    "    res_list=[]\n",
    "    for i in word_list:\n",
    "        if len(i)>n:\n",
    "            res_list.append(i)\n",
    "    return res_list\n",
    "print(\"The list of the words longer than n are : \" +str(filter_long_words(['aff','fyhjjk','hhjk','ahsjshsjjsjs'],3)))"
   ]
  },
  {
   "cell_type": "code",
   "execution_count": null,
   "metadata": {},
   "outputs": [],
   "source": [
    "#2.1 to find lenght of elements in a list\n",
    "def lenght_of_words(my_list):\n",
    "    lenght_list=[]\n",
    "    for i in my_list:\n",
    "        element_lenght=len(i)\n",
    "        lenght_list.append(element_lenght)\n",
    "    return lenght_list\n",
    "print(\"The lenght of the words in a list is: \" +str(lenght_of_words(['ab','cde','erty'])))\n"
   ]
  },
  {
   "cell_type": "code",
   "execution_count": 2,
   "metadata": {},
   "outputs": [
    {
     "name": "stdout",
     "output_type": "stream",
     "text": [
      "result: True\n"
     ]
    }
   ],
   "source": [
    "#2.2 to find whether a char is vowel or not\n",
    "def find_vowel(input_char):\n",
    "    result=True\n",
    "    if(input_char=='a' or input_char=='e' or input_char=='i' or input_char=='o' or input_char=='u' or input_char=='A' or input_char=='E' or input_char=='I' or input_char=='O' or input_char=='U' ):\n",
    "        result=True\n",
    "    else:\n",
    "        result=False\n",
    "    return result\n",
    "print(\"result: \"+str(find_vowel('a')))"
   ]
  },
  {
   "cell_type": "code",
   "execution_count": null,
   "metadata": {},
   "outputs": [],
   "source": []
  }
 ],
 "metadata": {
  "kernelspec": {
   "display_name": "Python 3",
   "language": "python",
   "name": "python3"
  },
  "language_info": {
   "codemirror_mode": {
    "name": "ipython",
    "version": 3
   },
   "file_extension": ".py",
   "mimetype": "text/x-python",
   "name": "python",
   "nbconvert_exporter": "python",
   "pygments_lexer": "ipython3",
   "version": "3.7.6"
  }
 },
 "nbformat": 4,
 "nbformat_minor": 4
}
