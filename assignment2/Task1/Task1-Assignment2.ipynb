{
 "cells": [
  {
   "cell_type": "code",
   "execution_count": 3,
   "metadata": {},
   "outputs": [
    {
     "name": "stdout",
     "output_type": "stream",
     "text": [
      "9\n"
     ]
    }
   ],
   "source": [
    "#1 reduce() function\n",
    "def myreduce(func,list1):\n",
    "    res=list1[0]\n",
    "    for i in list1[1:]:\n",
    "        res=func(res,i)\n",
    "    return res\n",
    "def sum(m,n):\n",
    "    return m+n\n",
    "print(str(myreduce(sum,[4,2,3])))"
   ]
  },
  {
   "cell_type": "code",
   "execution_count": 2,
   "metadata": {},
   "outputs": [
    {
     "name": "stdout",
     "output_type": "stream",
     "text": [
      "[1, 2, 3, 4]\n"
     ]
    }
   ],
   "source": [
    "#2 filter() function\n",
    "def myfilter(func,list1):\n",
    "    m=[]\n",
    "    for i in list1:\n",
    "        if func(i):\n",
    "            m.append(i)\n",
    "    return m\n",
    "def ispositive(x):\n",
    "    if(x<=0):\n",
    "        return False\n",
    "    else:\n",
    "        return True\n",
    "print(str(myfilter(ispositive,[1,2,3,4])))"
   ]
  },
  {
   "cell_type": "code",
   "execution_count": 61,
   "metadata": {},
   "outputs": [
    {
     "name": "stdout",
     "output_type": "stream",
     "text": [
      "['A', 'C', 'A', 'D', 'G', 'I', 'L', 'D']\n"
     ]
    }
   ],
   "source": [
    "#3 comprehensions\n",
    "word=\"ACADGILD\" \n",
    "comp_list=[i for i in word] \n",
    "print(str(comp_list))"
   ]
  },
  {
   "cell_type": "code",
   "execution_count": 32,
   "metadata": {},
   "outputs": [
    {
     "name": "stdout",
     "output_type": "stream",
     "text": [
      "['x', 'xx', 'xxx', 'xxxx', 'y', 'yy', 'yyy', 'yyyy', 'z', 'zz', 'zzz', 'zzzz']\n"
     ]
    }
   ],
   "source": [
    "list1=['x','y','z']\n",
    "res_list=[i*n for i in list1 for n in range(1,5)]\n",
    "print(str(res_list))"
   ]
  },
  {
   "cell_type": "code",
   "execution_count": 33,
   "metadata": {},
   "outputs": [
    {
     "name": "stdout",
     "output_type": "stream",
     "text": [
      "['x', 'y', 'z', 'xx', 'yy', 'zz', 'xxx', 'yyy', 'zzz', 'xxxx', 'yyyy', 'zzzz']\n"
     ]
    }
   ],
   "source": [
    "list1=['x','y','z']\n",
    "res_list=[i*n for n in range(1,5) for i in list1]\n",
    "print(str(res_list))\n"
   ]
  },
  {
   "cell_type": "code",
   "execution_count": 35,
   "metadata": {},
   "outputs": [
    {
     "name": "stdout",
     "output_type": "stream",
     "text": [
      "[[2], [3], [4], [3], [4], [5], [4], [5], [6]]\n"
     ]
    }
   ],
   "source": [
    "list1=[2,3,4]\n",
    "res_list=[[i+n] for i in list1 for n in range(0,3)]\n",
    "print(str(res_list))"
   ]
  },
  {
   "cell_type": "code",
   "execution_count": 38,
   "metadata": {},
   "outputs": [
    {
     "name": "stdout",
     "output_type": "stream",
     "text": [
      "[[2, 3, 4, 5], [3, 4, 5, 6], [4, 5, 6, 7], [5, 6, 7, 8]]\n"
     ]
    }
   ],
   "source": [
    "list1=[2,3,4,5]\n",
    "res_list=[[i+n for i in list1] for n in range(0,4)]\n",
    "print(str(res_list))"
   ]
  },
  {
   "cell_type": "code",
   "execution_count": 1,
   "metadata": {},
   "outputs": [
    {
     "name": "stdout",
     "output_type": "stream",
     "text": [
      "The longest word in a list is: abcdeee\n"
     ]
    }
   ],
   "source": [
    "#3 to find longest world in a list\n",
    "def longestWorld(word_list):\n",
    "    word_list.sort()\n",
    "    word_list=word_list[::-1]\n",
    "    return word_list[0]\n",
    "print(\"The longest word in a list is: \"+longestWorld(['abc','abcdeee','abcde']))"
   ]
  },
  {
   "cell_type": "code",
   "execution_count": null,
   "metadata": {},
   "outputs": [],
   "source": []
  }
 ],
 "metadata": {
  "kernelspec": {
   "display_name": "Python 3",
   "language": "python",
   "name": "python3"
  },
  "language_info": {
   "codemirror_mode": {
    "name": "ipython",
    "version": 3
   },
   "file_extension": ".py",
   "mimetype": "text/x-python",
   "name": "python",
   "nbconvert_exporter": "python",
   "pygments_lexer": "ipython3",
   "version": "3.7.6"
  }
 },
 "nbformat": 4,
 "nbformat_minor": 4
}
